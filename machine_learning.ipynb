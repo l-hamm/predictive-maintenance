{
 "cells": [
  {
   "cell_type": "markdown",
   "metadata": {},
   "source": [
    "# Machine Learning\n",
    "\n",
    "To learn more about the dataset being used in this notebook head over to [data_insights.ipynb](data_insights.ipynb).\n",
    "\n",
    "### Goal\n",
    "\n",
    "Predict the time of the next failure for each component"
   ]
  },
  {
   "cell_type": "markdown",
   "metadata": {},
   "source": [
    "### Data preparation"
   ]
  },
  {
   "cell_type": "code",
   "execution_count": 1,
   "metadata": {},
   "outputs": [],
   "source": [
    "import pandas as pd"
   ]
  },
  {
   "cell_type": "code",
   "execution_count": 10,
   "metadata": {},
   "outputs": [],
   "source": [
    "df_machines=pd.read_csv('data/PdM_machines.csv')\n",
    "df_errors=pd.read_csv('data/PdM_errors.csv')\n",
    "df_failures=pd.read_csv('data/PdM_failures.csv')\n",
    "df_telemetry=pd.read_csv('data/PdM_telemetry.csv')\n",
    "df_maint=pd.read_csv('data/PdM_maint.csv')\n"
   ]
  },
  {
   "cell_type": "code",
   "execution_count": 16,
   "metadata": {},
   "outputs": [],
   "source": [
    "\n",
    "df.info()"
   ]
  }
 ],
 "metadata": {
  "interpreter": {
   "hash": "159abecee99b7a15e978679efb087ec9d73cb1458ddacb8965005447011a0f46"
  },
  "kernelspec": {
   "display_name": "Python 3.9.5 64-bit ('ds_env': venv)",
   "language": "python",
   "name": "python3"
  },
  "language_info": {
   "codemirror_mode": {
    "name": "ipython",
    "version": 3
   },
   "file_extension": ".py",
   "mimetype": "text/x-python",
   "name": "python",
   "nbconvert_exporter": "python",
   "pygments_lexer": "ipython3",
   "version": "3.9.5"
  },
  "orig_nbformat": 4
 },
 "nbformat": 4,
 "nbformat_minor": 2
}
