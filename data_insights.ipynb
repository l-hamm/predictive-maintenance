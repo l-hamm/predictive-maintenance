{
 "cells": [
  {
   "cell_type": "markdown",
   "metadata": {},
   "source": [
    "# Will my machine break down today?\n",
    "\n",
    "## Introduction\n",
    "\n",
    "In this notebook we use data of several machines to predict whether a component of a machine breaks down within the next hours. To do so, we will first evaluate the provided data, then we will try to understand the correlations between features for a single machine and finally we will select and train a suited machine learning model to achieve our goal.\n",
    "\n",
    "### The dataset consists of the following data:\n",
    "\n",
    "- Machine conditions and usage: The operating conditions of a machine e.g. data collected from sensors.  \n",
    "- Failure history: The failure history of a machine or component within the machine.  \n",
    "- Maintenance history: The repair history of a machine, e.g. error codes, previous maintenance activities or component replacements.  \n",
    "- Machine features: The features of a machine, e.g. engine size, make and model, location.  \n",
    "\n",
    "### Details\n",
    "- Telemetry Time Series Data (PdM_telemetry.csv): It consists of hourly average of voltage, rotation, pressure, vibration collected from 100 machines for the year 2015.  \n",
    "\n",
    "- Error (PdM_errors.csv): These are errors encountered by the machines while in operating condition. Since, these errors don't shut down the machines, these are not considered as failures. The error date and times are rounded to the closest hour since the telemetry data is collected at an hourly rate.  \n",
    "\n",
    "- Maintenance (PdM_maint.csv): If a component of a machine is replaced, that is captured as a record in this table. Components are replaced under two situations: 1. During the regular scheduled visit, the technician replaced it (Proactive Maintenance) 2. A component breaks down and then the technician does an unscheduled maintenance to replace the component (Reactive Maintenance). This is considered as a failure and corresponding data is captured under Failures. Maintenance data has both 2014 and 2015 records. This data is rounded to the closest hour since the telemetry data is collected at an hourly rate.  \n",
    "\n",
    "- Failures (PdM_failures.csv): Each record represents replacement of a component due to failure. This data is a subset of Maintenance data. This data is rounded to the closest hour since the telemetry data is collected at an hourly rate.  \n",
    "\n",
    "- Metadata of Machines (PdM_Machines.csv): Model type & age of the Machines.  \n",
    "\n",
    "### Acknowledgements\n",
    "This dataset was available as a part of Azure AI Notebooks for Predictive Maintenance. But as of 15th Oct, 2020 the notebook (link) is no longer available. However, the data can still be downloaded using the following URLs:\n",
    "\n",
    "https://azuremlsampleexperiments.blob.core.windows.net/datasets/PdM_telemetry.csv  \n",
    "https://azuremlsampleexperiments.blob.core.windows.net/datasets/PdM_errors.csv  \n",
    "https://azuremlsampleexperiments.blob.core.windows.net/datasets/PdM_maint.csv  \n",
    "https://azuremlsampleexperiments.blob.core.windows.net/datasets/PdM_failures.csv  \n",
    "https://azuremlsampleexperiments.blob.core.windows.net/datasets/PdM_machines.csv  "
   ]
  },
  {
   "cell_type": "markdown",
   "metadata": {},
   "source": [
    "### Get libraries and data"
   ]
  },
  {
   "cell_type": "code",
   "execution_count": 5,
   "metadata": {},
   "outputs": [],
   "source": [
    "from utils import unzip_files\n",
    "import matplotlib.pyplot as plt\n",
    "import pandas as pd\n",
    "from sklearn.model_selection import train_test_split \n",
    "from sklearn.model_selection import cross_val_score\n",
    "from sklearn.model_selection import cross_val_predict\n",
    "from sklearn.svm import LinearSVC, SVC\n",
    "from sklearn.preprocessing import StandardScaler\n",
    "from sklearn.pipeline import Pipeline\n",
    "from sklearn.metrics import confusion_matrix, ConfusionMatrixDisplay\n",
    "import numpy as np"
   ]
  },
  {
   "cell_type": "code",
   "execution_count": 6,
   "metadata": {},
   "outputs": [],
   "source": [
    "#Unzip files\n",
    "input_path='data.zip'\n",
    "output_path='data'\n",
    "unzip_files(input_path,output_path)"
   ]
  },
  {
   "cell_type": "markdown",
   "metadata": {},
   "source": [
    "# Exploratory Data Analysis\n",
    "\n",
    "To get an idea of what kind of data is in front of us and to find any issues (missing data, wrong formatting, etc.) we will first have a look into the provided datasets without going too much into detail."
   ]
  },
  {
   "cell_type": "markdown",
   "metadata": {},
   "source": [
    "### Machine data"
   ]
  },
  {
   "cell_type": "code",
   "execution_count": 7,
   "metadata": {},
   "outputs": [
    {
     "name": "stdout",
     "output_type": "stream",
     "text": [
      "<class 'pandas.core.frame.DataFrame'>\n",
      "RangeIndex: 100 entries, 0 to 99\n",
      "Data columns (total 3 columns):\n",
      " #   Column     Non-Null Count  Dtype \n",
      "---  ------     --------------  ----- \n",
      " 0   machineID  100 non-null    int64 \n",
      " 1   model      100 non-null    object\n",
      " 2   age        100 non-null    int64 \n",
      "dtypes: int64(2), object(1)\n",
      "memory usage: 2.5+ KB\n"
     ]
    }
   ],
   "source": [
    "# Machine features\n",
    "df_machines=pd.read_csv('data/PdM_machines.csv')\n",
    "df_machines.info()"
   ]
  },
  {
   "cell_type": "code",
   "execution_count": 8,
   "metadata": {},
   "outputs": [
    {
     "data": {
      "text/html": [
       "<div>\n",
       "<style scoped>\n",
       "    .dataframe tbody tr th:only-of-type {\n",
       "        vertical-align: middle;\n",
       "    }\n",
       "\n",
       "    .dataframe tbody tr th {\n",
       "        vertical-align: top;\n",
       "    }\n",
       "\n",
       "    .dataframe thead th {\n",
       "        text-align: right;\n",
       "    }\n",
       "</style>\n",
       "<table border=\"1\" class=\"dataframe\">\n",
       "  <thead>\n",
       "    <tr style=\"text-align: right;\">\n",
       "      <th></th>\n",
       "      <th>machineID</th>\n",
       "      <th>model</th>\n",
       "      <th>age</th>\n",
       "    </tr>\n",
       "  </thead>\n",
       "  <tbody>\n",
       "    <tr>\n",
       "      <th>count</th>\n",
       "      <td>100.000000</td>\n",
       "      <td>100</td>\n",
       "      <td>100.000000</td>\n",
       "    </tr>\n",
       "    <tr>\n",
       "      <th>unique</th>\n",
       "      <td>NaN</td>\n",
       "      <td>4</td>\n",
       "      <td>NaN</td>\n",
       "    </tr>\n",
       "    <tr>\n",
       "      <th>top</th>\n",
       "      <td>NaN</td>\n",
       "      <td>model3</td>\n",
       "      <td>NaN</td>\n",
       "    </tr>\n",
       "    <tr>\n",
       "      <th>freq</th>\n",
       "      <td>NaN</td>\n",
       "      <td>35</td>\n",
       "      <td>NaN</td>\n",
       "    </tr>\n",
       "    <tr>\n",
       "      <th>mean</th>\n",
       "      <td>50.500000</td>\n",
       "      <td>NaN</td>\n",
       "      <td>11.330000</td>\n",
       "    </tr>\n",
       "    <tr>\n",
       "      <th>std</th>\n",
       "      <td>29.011492</td>\n",
       "      <td>NaN</td>\n",
       "      <td>5.856974</td>\n",
       "    </tr>\n",
       "    <tr>\n",
       "      <th>min</th>\n",
       "      <td>1.000000</td>\n",
       "      <td>NaN</td>\n",
       "      <td>0.000000</td>\n",
       "    </tr>\n",
       "    <tr>\n",
       "      <th>25%</th>\n",
       "      <td>25.750000</td>\n",
       "      <td>NaN</td>\n",
       "      <td>6.750000</td>\n",
       "    </tr>\n",
       "    <tr>\n",
       "      <th>50%</th>\n",
       "      <td>50.500000</td>\n",
       "      <td>NaN</td>\n",
       "      <td>12.000000</td>\n",
       "    </tr>\n",
       "    <tr>\n",
       "      <th>75%</th>\n",
       "      <td>75.250000</td>\n",
       "      <td>NaN</td>\n",
       "      <td>16.000000</td>\n",
       "    </tr>\n",
       "    <tr>\n",
       "      <th>max</th>\n",
       "      <td>100.000000</td>\n",
       "      <td>NaN</td>\n",
       "      <td>20.000000</td>\n",
       "    </tr>\n",
       "  </tbody>\n",
       "</table>\n",
       "</div>"
      ],
      "text/plain": [
       "         machineID   model         age\n",
       "count   100.000000     100  100.000000\n",
       "unique         NaN       4         NaN\n",
       "top            NaN  model3         NaN\n",
       "freq           NaN      35         NaN\n",
       "mean     50.500000     NaN   11.330000\n",
       "std      29.011492     NaN    5.856974\n",
       "min       1.000000     NaN    0.000000\n",
       "25%      25.750000     NaN    6.750000\n",
       "50%      50.500000     NaN   12.000000\n",
       "75%      75.250000     NaN   16.000000\n",
       "max     100.000000     NaN   20.000000"
      ]
     },
     "execution_count": 8,
     "metadata": {},
     "output_type": "execute_result"
    }
   ],
   "source": [
    "df_machines.describe(include='all')"
   ]
  },
  {
   "cell_type": "code",
   "execution_count": 9,
   "metadata": {},
   "outputs": [
    {
     "data": {
      "text/plain": [
       "True"
      ]
     },
     "execution_count": 9,
     "metadata": {},
     "output_type": "execute_result"
    }
   ],
   "source": [
    "# check if machineID is unique\n",
    "df_machines.machineID.is_unique"
   ]
  },
  {
   "cell_type": "code",
   "execution_count": 10,
   "metadata": {},
   "outputs": [
    {
     "data": {
      "text/plain": [
       "<function matplotlib.pyplot.show(close=None, block=None)>"
      ]
     },
     "execution_count": 10,
     "metadata": {},
     "output_type": "execute_result"
    },
    {
     "data": {
      "image/png": "[encoded data removed]",
      "text/plain": [
       "<Figure size 360x360 with 1 Axes>"
      ]
     },
     "metadata": {
      "needs_background": "light"
     },
     "output_type": "display_data"
    }
   ],
   "source": [
    "#Histogram: number of machines by age\n",
    "df_machines.age.hist(bins=10, figsize=(5,5)).set_title('Number of machines by age')\n",
    "plt.show"
   ]
  },
  {
   "cell_type": "code",
   "execution_count": 11,
   "metadata": {},
   "outputs": [
    {
     "data": {
      "text/plain": [
       "Text(0.5, 1.0, 'Number of machines by model')"
      ]
     },
     "execution_count": 11,
     "metadata": {},
     "output_type": "execute_result"
    },
    {
     "data": {
      "image/png": "[encoded data removed]",
      "text/plain": [
       "<Figure size 432x288 with 1 Axes>"
      ]
     },
     "metadata": {
      "needs_background": "light"
     },
     "output_type": "display_data"
    }
   ],
   "source": [
    "df_machines.model.value_counts().plot.bar().set_title('Number of machines by model')"
   ]
  },
  {
   "cell_type": "markdown",
   "metadata": {},
   "source": [
    "Summary\n",
    "\n",
    "- There are 100 machines of 4 different types (models)\n",
    "- Most of the machines are of model 3 and 4\n",
    "- The machines are between 0 and 20 years old\n",
    "- No missing values\n",
    "- All machine id's are unique"
   ]
  },
  {
   "cell_type": "markdown",
   "metadata": {},
   "source": [
    "### Telemetry"
   ]
  },
  {
   "cell_type": "code",
   "execution_count": 12,
   "metadata": {},
   "outputs": [
    {
     "name": "stdout",
     "output_type": "stream",
     "text": [
      "<class 'pandas.core.frame.DataFrame'>\n",
      "RangeIndex: 876100 entries, 0 to 876099\n",
      "Data columns (total 6 columns):\n",
      " #   Column     Non-Null Count   Dtype  \n",
      "---  ------     --------------   -----  \n",
      " 0   datetime   876100 non-null  object \n",
      " 1   machineID  876100 non-null  int64  \n",
      " 2   volt       876100 non-null  float64\n",
      " 3   rotate     876100 non-null  float64\n",
      " 4   pressure   876100 non-null  float64\n",
      " 5   vibration  876100 non-null  float64\n",
      "dtypes: float64(4), int64(1), object(1)\n",
      "memory usage: 40.1+ MB\n"
     ]
    }
   ],
   "source": [
    "# Telemetry\n",
    "df_telemetry=pd.read_csv('data/PdM_telemetry.csv')\n",
    "df_telemetry.info()"
   ]
  },
  {
   "cell_type": "code",
   "execution_count": 15,
   "metadata": {},
   "outputs": [
    {
     "data": {
      "text/plain": [
       "Timestamp('2016-01-01 06:00:00')"
      ]
     },
     "execution_count": 15,
     "metadata": {},
     "output_type": "execute_result"
    }
   ],
   "source": [
    "#Last date in dataset\n",
    "date_max=pd.to_datetime(df_telemetry.datetime).max()\n",
    "date_max"
   ]
  },
  {
   "cell_type": "code",
   "execution_count": 16,
   "metadata": {},
   "outputs": [
    {
     "data": {
      "text/plain": [
       "Timestamp('2015-01-01 06:00:00')"
      ]
     },
     "execution_count": 16,
     "metadata": {},
     "output_type": "execute_result"
    }
   ],
   "source": [
    "#First date in dataset\n",
    "date_min=pd.to_datetime(df_telemetry.datetime).min()\n",
    "date_min"
   ]
  },
  {
   "cell_type": "code",
   "execution_count": 17,
   "metadata": {},
   "outputs": [
    {
     "name": "stdout",
     "output_type": "stream",
     "text": [
      "DatetimeIndex([], dtype='datetime64[ns]', freq=None)\n"
     ]
    }
   ],
   "source": [
    "#check for missing dates\n",
    "df_tel_date = df_telemetry\n",
    "df_tel_date = df_tel_date.set_index('datetime')\n",
    "\n",
    "df_tel_date.index = pd.to_datetime(df_tel_date.index)\n",
    "df_tel_date\n",
    "\n",
    "# dates which are NOT in the sequence are returned\n",
    "print(pd.date_range(\n",
    "  start=date_min, end=date_max).difference(df_tel_date.index))"
   ]
  },
  {
   "cell_type": "code",
   "execution_count": 18,
   "metadata": {},
   "outputs": [
    {
     "data": {
      "text/html": [
       "<div>\n",
       "<style scoped>\n",
       "    .dataframe tbody tr th:only-of-type {\n",
       "        vertical-align: middle;\n",
       "    }\n",
       "\n",
       "    .dataframe tbody tr th {\n",
       "        vertical-align: top;\n",
       "    }\n",
       "\n",
       "    .dataframe thead th {\n",
       "        text-align: right;\n",
       "    }\n",
       "</style>\n",
       "<table border=\"1\" class=\"dataframe\">\n",
       "  <thead>\n",
       "    <tr style=\"text-align: right;\">\n",
       "      <th></th>\n",
       "      <th>machineID</th>\n",
       "      <th>volt</th>\n",
       "      <th>rotate</th>\n",
       "      <th>pressure</th>\n",
       "      <th>vibration</th>\n",
       "    </tr>\n",
       "  </thead>\n",
       "  <tbody>\n",
       "    <tr>\n",
       "      <th>count</th>\n",
       "      <td>876100.000000</td>\n",
       "      <td>876100.000000</td>\n",
       "      <td>876100.000000</td>\n",
       "      <td>876100.000000</td>\n",
       "      <td>876100.000000</td>\n",
       "    </tr>\n",
       "    <tr>\n",
       "      <th>mean</th>\n",
       "      <td>50.500000</td>\n",
       "      <td>170.777736</td>\n",
       "      <td>446.605119</td>\n",
       "      <td>100.858668</td>\n",
       "      <td>40.385007</td>\n",
       "    </tr>\n",
       "    <tr>\n",
       "      <th>std</th>\n",
       "      <td>28.866087</td>\n",
       "      <td>15.509114</td>\n",
       "      <td>52.673886</td>\n",
       "      <td>11.048679</td>\n",
       "      <td>5.370361</td>\n",
       "    </tr>\n",
       "    <tr>\n",
       "      <th>min</th>\n",
       "      <td>1.000000</td>\n",
       "      <td>97.333604</td>\n",
       "      <td>138.432075</td>\n",
       "      <td>51.237106</td>\n",
       "      <td>14.877054</td>\n",
       "    </tr>\n",
       "    <tr>\n",
       "      <th>25%</th>\n",
       "      <td>25.750000</td>\n",
       "      <td>160.304927</td>\n",
       "      <td>412.305714</td>\n",
       "      <td>93.498181</td>\n",
       "      <td>36.777299</td>\n",
       "    </tr>\n",
       "    <tr>\n",
       "      <th>50%</th>\n",
       "      <td>50.500000</td>\n",
       "      <td>170.607338</td>\n",
       "      <td>447.558150</td>\n",
       "      <td>100.425559</td>\n",
       "      <td>40.237247</td>\n",
       "    </tr>\n",
       "    <tr>\n",
       "      <th>75%</th>\n",
       "      <td>75.250000</td>\n",
       "      <td>181.004493</td>\n",
       "      <td>482.176600</td>\n",
       "      <td>107.555231</td>\n",
       "      <td>43.784938</td>\n",
       "    </tr>\n",
       "    <tr>\n",
       "      <th>max</th>\n",
       "      <td>100.000000</td>\n",
       "      <td>255.124717</td>\n",
       "      <td>695.020984</td>\n",
       "      <td>185.951998</td>\n",
       "      <td>76.791072</td>\n",
       "    </tr>\n",
       "  </tbody>\n",
       "</table>\n",
       "</div>"
      ],
      "text/plain": [
       "           machineID           volt         rotate       pressure  \\\n",
       "count  876100.000000  876100.000000  876100.000000  876100.000000   \n",
       "mean       50.500000     170.777736     446.605119     100.858668   \n",
       "std        28.866087      15.509114      52.673886      11.048679   \n",
       "min         1.000000      97.333604     138.432075      51.237106   \n",
       "25%        25.750000     160.304927     412.305714      93.498181   \n",
       "50%        50.500000     170.607338     447.558150     100.425559   \n",
       "75%        75.250000     181.004493     482.176600     107.555231   \n",
       "max       100.000000     255.124717     695.020984     185.951998   \n",
       "\n",
       "           vibration  \n",
       "count  876100.000000  \n",
       "mean       40.385007  \n",
       "std         5.370361  \n",
       "min        14.877054  \n",
       "25%        36.777299  \n",
       "50%        40.237247  \n",
       "75%        43.784938  \n",
       "max        76.791072  "
      ]
     },
     "execution_count": 18,
     "metadata": {},
     "output_type": "execute_result"
    }
   ],
   "source": [
    "df_telemetry.describe()"
   ]
  },
  {
   "cell_type": "code",
   "execution_count": 22,
   "metadata": {},
   "outputs": [
    {
     "data": {
      "text/plain": [
       "<function matplotlib.pyplot.show(close=None, block=None)>"
      ]
     },
     "execution_count": 22,
     "metadata": {},
     "output_type": "execute_result"
    },
    {
     "data": {
      "image/png": "[encoded data removed]",
      "text/plain": [
       "<Figure size 720x360 with 4 Axes>"
      ]
     },
     "metadata": {
      "needs_background": "light"
     },
     "output_type": "display_data"
    }
   ],
   "source": [
    "df_telemetry.drop('machineID',axis=1).hist(bins=500, figsize=(10,5))\n",
    "plt.show"
   ]
  },
  {
   "cell_type": "markdown",
   "metadata": {},
   "source": [
    "Summary\n",
    "\n",
    "- Telemetry data of one year (2015)\n",
    "- Values: voltage, rotation, pressure and vibration\n",
    "- No missing values"
   ]
  },
  {
   "cell_type": "markdown",
   "metadata": {},
   "source": [
    "### Errors"
   ]
  },
  {
   "cell_type": "code",
   "execution_count": 23,
   "metadata": {},
   "outputs": [
    {
     "name": "stdout",
     "output_type": "stream",
     "text": [
      "<class 'pandas.core.frame.DataFrame'>\n",
      "RangeIndex: 3919 entries, 0 to 3918\n",
      "Data columns (total 3 columns):\n",
      " #   Column     Non-Null Count  Dtype \n",
      "---  ------     --------------  ----- \n",
      " 0   datetime   3919 non-null   object\n",
      " 1   machineID  3919 non-null   int64 \n",
      " 2   errorID    3919 non-null   object\n",
      "dtypes: int64(1), object(2)\n",
      "memory usage: 92.0+ KB\n"
     ]
    }
   ],
   "source": [
    "# Errors\n",
    "df_errors=pd.read_csv('data/PdM_errors.csv')\n",
    "df_errors.info()"
   ]
  },
  {
   "cell_type": "code",
   "execution_count": 26,
   "metadata": {},
   "outputs": [
    {
     "data": {
      "text/plain": [
       "Text(0.5, 1.0, 'Number of errors by error id')"
      ]
     },
     "execution_count": 26,
     "metadata": {},
     "output_type": "execute_result"
    },
    {
     "data": {
      "image/png": "[encoded data removed]",
      "text/plain": [
       "<Figure size 432x288 with 1 Axes>"
      ]
     },
     "metadata": {
      "needs_background": "light"
     },
     "output_type": "display_data"
    }
   ],
   "source": [
    "df_errors.errorID.value_counts().plot.bar().set_title('Number of errors by error id')"
   ]
  },
  {
   "cell_type": "code",
   "execution_count": 27,
   "metadata": {},
   "outputs": [],
   "source": [
    "df_errors.datetime=pd.to_datetime(df_errors.datetime)\n",
    "df_errors['date']=df_errors.datetime.dt.date\n",
    "df_errors['month']=df_errors.datetime.dt.month"
   ]
  },
  {
   "cell_type": "code",
   "execution_count": 28,
   "metadata": {},
   "outputs": [
    {
     "data": {
      "text/plain": [
       "Text(0.5, 1.0, 'Errors per month')"
      ]
     },
     "execution_count": 28,
     "metadata": {},
     "output_type": "execute_result"
    },
    {
     "data": {
      "image/png": "[encoded data removed]",
      "text/plain": [
       "<Figure size 432x288 with 1 Axes>"
      ]
     },
     "metadata": {
      "needs_background": "light"
     },
     "output_type": "display_data"
    }
   ],
   "source": [
    "errors_per_month=df_errors.groupby([df_errors.month]).count()\n",
    "errors_per_month.errorID.plot.bar().set_title('Errors per month')"
   ]
  },
  {
   "cell_type": "markdown",
   "metadata": {},
   "source": [
    "Summary\n",
    "\n",
    "- 5 different errors\n",
    "- Errors are more or less equally divided over the year\n",
    "- Attributes: voltage, rotation, pressure and vibration\n",
    "- No missing values"
   ]
  },
  {
   "cell_type": "markdown",
   "metadata": {},
   "source": [
    "### Failures"
   ]
  },
  {
   "cell_type": "code",
   "execution_count": 21,
   "metadata": {},
   "outputs": [
    {
     "name": "stdout",
     "output_type": "stream",
     "text": [
      "<class 'pandas.core.frame.DataFrame'>\n",
      "RangeIndex: 761 entries, 0 to 760\n",
      "Data columns (total 3 columns):\n",
      " #   Column     Non-Null Count  Dtype \n",
      "---  ------     --------------  ----- \n",
      " 0   datetime   761 non-null    object\n",
      " 1   machineID  761 non-null    int64 \n",
      " 2   failure    761 non-null    object\n",
      "dtypes: int64(1), object(2)\n",
      "memory usage: 18.0+ KB\n"
     ]
    }
   ],
   "source": [
    "# Failures\n",
    "df_failures=pd.read_csv('data/PdM_failures.csv')\n",
    "df_failures.info()"
   ]
  },
  {
   "cell_type": "code",
   "execution_count": 22,
   "metadata": {},
   "outputs": [
    {
     "data": {
      "text/html": [
       "<div>\n",
       "<style scoped>\n",
       "    .dataframe tbody tr th:only-of-type {\n",
       "        vertical-align: middle;\n",
       "    }\n",
       "\n",
       "    .dataframe tbody tr th {\n",
       "        vertical-align: top;\n",
       "    }\n",
       "\n",
       "    .dataframe thead th {\n",
       "        text-align: right;\n",
       "    }\n",
       "</style>\n",
       "<table border=\"1\" class=\"dataframe\">\n",
       "  <thead>\n",
       "    <tr style=\"text-align: right;\">\n",
       "      <th></th>\n",
       "      <th>machineID</th>\n",
       "    </tr>\n",
       "  </thead>\n",
       "  <tbody>\n",
       "    <tr>\n",
       "      <th>count</th>\n",
       "      <td>761.000000</td>\n",
       "    </tr>\n",
       "    <tr>\n",
       "      <th>mean</th>\n",
       "      <td>51.911958</td>\n",
       "    </tr>\n",
       "    <tr>\n",
       "      <th>std</th>\n",
       "      <td>29.515542</td>\n",
       "    </tr>\n",
       "    <tr>\n",
       "      <th>min</th>\n",
       "      <td>1.000000</td>\n",
       "    </tr>\n",
       "    <tr>\n",
       "      <th>25%</th>\n",
       "      <td>24.000000</td>\n",
       "    </tr>\n",
       "    <tr>\n",
       "      <th>50%</th>\n",
       "      <td>51.000000</td>\n",
       "    </tr>\n",
       "    <tr>\n",
       "      <th>75%</th>\n",
       "      <td>79.000000</td>\n",
       "    </tr>\n",
       "    <tr>\n",
       "      <th>max</th>\n",
       "      <td>100.000000</td>\n",
       "    </tr>\n",
       "  </tbody>\n",
       "</table>\n",
       "</div>"
      ],
      "text/plain": [
       "        machineID\n",
       "count  761.000000\n",
       "mean    51.911958\n",
       "std     29.515542\n",
       "min      1.000000\n",
       "25%     24.000000\n",
       "50%     51.000000\n",
       "75%     79.000000\n",
       "max    100.000000"
      ]
     },
     "execution_count": 22,
     "metadata": {},
     "output_type": "execute_result"
    }
   ],
   "source": [
    "df_failures.describe()"
   ]
  },
  {
   "cell_type": "code",
   "execution_count": 23,
   "metadata": {},
   "outputs": [
    {
     "data": {
      "text/plain": [
       "Text(0.5, 1.0, 'Number of failures by component')"
      ]
     },
     "execution_count": 23,
     "metadata": {},
     "output_type": "execute_result"
    },
    {
     "data": {
      "image/png": "[encoded data removed]",
      "text/plain": [
       "<Figure size 432x288 with 1 Axes>"
      ]
     },
     "metadata": {
      "needs_background": "light"
     },
     "output_type": "display_data"
    }
   ],
   "source": [
    "df_failures.failure.value_counts().plot.bar().set_title('Number of failures by component')"
   ]
  },
  {
   "cell_type": "code",
   "execution_count": 24,
   "metadata": {},
   "outputs": [],
   "source": [
    "df_failures.datetime=pd.to_datetime(df_errors.datetime)\n",
    "df_failures['date']=df_errors.datetime.dt.date\n",
    "df_failures['month']=df_errors.datetime.dt.month"
   ]
  },
  {
   "cell_type": "code",
   "execution_count": 25,
   "metadata": {},
   "outputs": [
    {
     "data": {
      "text/plain": [
       "Text(0.5, 1.0, 'Number of failures per month')"
      ]
     },
     "execution_count": 25,
     "metadata": {},
     "output_type": "execute_result"
    },
    {
     "data": {
      "image/png": "[encoded data removed]",
      "text/plain": [
       "<Figure size 432x288 with 1 Axes>"
      ]
     },
     "metadata": {
      "needs_background": "light"
     },
     "output_type": "display_data"
    }
   ],
   "source": [
    "failure_per_month=df_failures.groupby([df_failures.month]).count()\n",
    "failure_per_month.failure.plot.bar().set_title('Number of failures per month')"
   ]
  },
  {
   "cell_type": "markdown",
   "metadata": {},
   "source": [
    "Summary\n",
    "\n",
    "- 4 different different components failed certain times\n",
    "- No missing values"
   ]
  },
  {
   "cell_type": "markdown",
   "metadata": {},
   "source": [
    "### Maintenance\n",
    "\n",
    "According to the dataset's description maintenance means replacement of a particular component."
   ]
  },
  {
   "cell_type": "code",
   "execution_count": 26,
   "metadata": {},
   "outputs": [
    {
     "name": "stdout",
     "output_type": "stream",
     "text": [
      "<class 'pandas.core.frame.DataFrame'>\n",
      "RangeIndex: 3286 entries, 0 to 3285\n",
      "Data columns (total 3 columns):\n",
      " #   Column     Non-Null Count  Dtype \n",
      "---  ------     --------------  ----- \n",
      " 0   datetime   3286 non-null   object\n",
      " 1   machineID  3286 non-null   int64 \n",
      " 2   comp       3286 non-null   object\n",
      "dtypes: int64(1), object(2)\n",
      "memory usage: 77.1+ KB\n"
     ]
    }
   ],
   "source": [
    "# Maintenance\n",
    "df_maint=pd.read_csv('data/PdM_maint.csv')\n",
    "df_maint.info()"
   ]
  },
  {
   "cell_type": "code",
   "execution_count": 27,
   "metadata": {},
   "outputs": [
    {
     "data": {
      "text/html": [
       "<div>\n",
       "<style scoped>\n",
       "    .dataframe tbody tr th:only-of-type {\n",
       "        vertical-align: middle;\n",
       "    }\n",
       "\n",
       "    .dataframe tbody tr th {\n",
       "        vertical-align: top;\n",
       "    }\n",
       "\n",
       "    .dataframe thead th {\n",
       "        text-align: right;\n",
       "    }\n",
       "</style>\n",
       "<table border=\"1\" class=\"dataframe\">\n",
       "  <thead>\n",
       "    <tr style=\"text-align: right;\">\n",
       "      <th></th>\n",
       "      <th>datetime</th>\n",
       "      <th>machineID</th>\n",
       "      <th>comp</th>\n",
       "    </tr>\n",
       "  </thead>\n",
       "  <tbody>\n",
       "    <tr>\n",
       "      <th>0</th>\n",
       "      <td>2014-06-01 06:00:00</td>\n",
       "      <td>1</td>\n",
       "      <td>comp2</td>\n",
       "    </tr>\n",
       "    <tr>\n",
       "      <th>1</th>\n",
       "      <td>2014-07-16 06:00:00</td>\n",
       "      <td>1</td>\n",
       "      <td>comp4</td>\n",
       "    </tr>\n",
       "    <tr>\n",
       "      <th>2</th>\n",
       "      <td>2014-07-31 06:00:00</td>\n",
       "      <td>1</td>\n",
       "      <td>comp3</td>\n",
       "    </tr>\n",
       "    <tr>\n",
       "      <th>3</th>\n",
       "      <td>2014-12-13 06:00:00</td>\n",
       "      <td>1</td>\n",
       "      <td>comp1</td>\n",
       "    </tr>\n",
       "    <tr>\n",
       "      <th>4</th>\n",
       "      <td>2015-01-05 06:00:00</td>\n",
       "      <td>1</td>\n",
       "      <td>comp4</td>\n",
       "    </tr>\n",
       "  </tbody>\n",
       "</table>\n",
       "</div>"
      ],
      "text/plain": [
       "              datetime  machineID   comp\n",
       "0  2014-06-01 06:00:00          1  comp2\n",
       "1  2014-07-16 06:00:00          1  comp4\n",
       "2  2014-07-31 06:00:00          1  comp3\n",
       "3  2014-12-13 06:00:00          1  comp1\n",
       "4  2015-01-05 06:00:00          1  comp4"
      ]
     },
     "execution_count": 27,
     "metadata": {},
     "output_type": "execute_result"
    }
   ],
   "source": [
    "df_maint.head()"
   ]
  },
  {
   "cell_type": "code",
   "execution_count": 28,
   "metadata": {},
   "outputs": [
    {
     "data": {
      "text/plain": [
       "'2014-06-01 06:00:00'"
      ]
     },
     "execution_count": 28,
     "metadata": {},
     "output_type": "execute_result"
    }
   ],
   "source": [
    "df_maint.datetime.min()"
   ]
  },
  {
   "cell_type": "code",
   "execution_count": 29,
   "metadata": {},
   "outputs": [
    {
     "data": {
      "text/plain": [
       "'2016-01-01 06:00:00'"
      ]
     },
     "execution_count": 29,
     "metadata": {},
     "output_type": "execute_result"
    }
   ],
   "source": [
    "df_maint.datetime.max()"
   ]
  },
  {
   "cell_type": "code",
   "execution_count": 30,
   "metadata": {},
   "outputs": [],
   "source": [
    "df_maint.datetime=pd.to_datetime(df_maint.datetime)\n",
    "df_maint['date']=df_maint.datetime.dt.date\n",
    "df_maint['month']=df_maint.datetime.dt.month"
   ]
  },
  {
   "cell_type": "code",
   "execution_count": 31,
   "metadata": {},
   "outputs": [
    {
     "data": {
      "text/plain": [
       "comp2    863\n",
       "comp4    811\n",
       "comp3    808\n",
       "comp1    804\n",
       "Name: comp, dtype: int64"
      ]
     },
     "execution_count": 31,
     "metadata": {},
     "output_type": "execute_result"
    }
   ],
   "source": [
    "#types of maintenance\n",
    "df_maint.comp.value_counts()"
   ]
  },
  {
   "cell_type": "code",
   "execution_count": 32,
   "metadata": {},
   "outputs": [
    {
     "data": {
      "text/plain": [
       "Text(0.5, 1.0, 'Maintenance per month (total)')"
      ]
     },
     "execution_count": 32,
     "metadata": {},
     "output_type": "execute_result"
    },
    {
     "data": {
      "image/png": "[encoded data removed]",
      "text/plain": [
       "<Figure size 432x288 with 1 Axes>"
      ]
     },
     "metadata": {
      "needs_background": "light"
     },
     "output_type": "display_data"
    }
   ],
   "source": [
    "maint_per_month=df_maint.groupby([df_maint.month]).count()\n",
    "maint_per_month.comp.plot(kind='bar', stacked='true').set_title('Maintenance per month (total)')"
   ]
  },
  {
   "cell_type": "code",
   "execution_count": 33,
   "metadata": {},
   "outputs": [
    {
     "data": {
      "image/png": "[encoded data removed]",
      "text/plain": [
       "<Figure size 1440x720 with 4 Axes>"
      ]
     },
     "metadata": {
      "needs_background": "light"
     },
     "output_type": "display_data"
    }
   ],
   "source": [
    "fig, axes = plt.subplots(nrows=2, ncols=2)\n",
    "\n",
    "ax_coord=[[0,0],[0,1],[1,0],[1,1]]\n",
    "\n",
    "i=0\n",
    "for c in df_maint.sort_values(by=['comp']).comp.unique():\n",
    "    maint_c=df_maint[df_maint.comp==c]\n",
    "    maint_c_per_month=maint_c.groupby([maint_c.month]).count()\n",
    "    maint_c_per_month.comp.plot(kind='bar', stacked='true', figsize=(20,10), ax=axes[ax_coord[i][0],ax_coord[i][1]]).set_title('Maint. per month on '+c)\n",
    "    i+=1\n",
    "    \n",
    "plt.show()"
   ]
  },
  {
   "cell_type": "markdown",
   "metadata": {},
   "source": [
    "Summary\n",
    "- Maintenance data of 2 years\n",
    "- No missing values"
   ]
  },
  {
   "cell_type": "markdown",
   "metadata": {},
   "source": [
    "## Looking into data of a single machine\n",
    "\n",
    "Our goal is to create a ml-model that is able to predict whether amachine will fail within a certain ime frame. Before we put the data into several models let's first have a look into the data of a single machine. This might help us to find and understand correlations between the features visually.\n"
   ]
  },
  {
   "cell_type": "code",
   "execution_count": 34,
   "metadata": {},
   "outputs": [
    {
     "data": {
      "text/plain": [
       "machineID         5\n",
       "model        model3\n",
       "age               2\n",
       "Name: 4, dtype: object"
      ]
     },
     "execution_count": 34,
     "metadata": {},
     "output_type": "execute_result"
    }
   ],
   "source": [
    "#select a machine\n",
    "mach=df_machines.iloc[4]\n",
    "mach"
   ]
  },
  {
   "cell_type": "code",
   "execution_count": 35,
   "metadata": {},
   "outputs": [],
   "source": [
    "#get telemetry, errors, failures and maintenance data of this machine\n",
    "df_mach_tele=df_telemetry.loc[df_telemetry.machineID==mach.machineID]\n",
    "df_mach_fail=df_failures.loc[df_failures.machineID==mach.machineID]"
   ]
  },
  {
   "cell_type": "markdown",
   "metadata": {},
   "source": [
    "It would be nice to know if errors or failures have a timely correlation with sensor data (such as \"a component is usually running into a failure after the sensor data shows particular measurements).\n",
    "  \n",
    "For now, just out of curiousity, we will visualise the sensor data around the occurence of a randomly picked failure.  \n",
    "  \n",
    "Therefore we will merge telemetry data and failure data by date."
   ]
  },
  {
   "cell_type": "code",
   "execution_count": 36,
   "metadata": {},
   "outputs": [
    {
     "name": "stderr",
     "output_type": "stream",
     "text": [
      "/var/folders/3_/y4jn6p5x3mnbt1cs_ffs_fb80000gn/T/ipykernel_60214/2046554879.py:2: SettingWithCopyWarning: \n",
      "A value is trying to be set on a copy of a slice from a DataFrame.\n",
      "Try using .loc[row_indexer,col_indexer] = value instead\n",
      "\n",
      "See the caveats in the documentation: https://pandas.pydata.org/pandas-docs/stable/user_guide/indexing.html#returning-a-view-versus-a-copy\n",
      "  df_mach_tele.datetime=pd.to_datetime(df_mach_tele.datetime)\n",
      "/var/folders/3_/y4jn6p5x3mnbt1cs_ffs_fb80000gn/T/ipykernel_60214/2046554879.py:3: SettingWithCopyWarning: \n",
      "A value is trying to be set on a copy of a slice from a DataFrame.\n",
      "Try using .loc[row_indexer,col_indexer] = value instead\n",
      "\n",
      "See the caveats in the documentation: https://pandas.pydata.org/pandas-docs/stable/user_guide/indexing.html#returning-a-view-versus-a-copy\n",
      "  df_mach_fail.datetime=pd.to_datetime(df_mach_fail.datetime)\n"
     ]
    },
    {
     "data": {
      "text/html": [
       "<div>\n",
       "<style scoped>\n",
       "    .dataframe tbody tr th:only-of-type {\n",
       "        vertical-align: middle;\n",
       "    }\n",
       "\n",
       "    .dataframe tbody tr th {\n",
       "        vertical-align: top;\n",
       "    }\n",
       "\n",
       "    .dataframe thead th {\n",
       "        text-align: right;\n",
       "    }\n",
       "</style>\n",
       "<table border=\"1\" class=\"dataframe\">\n",
       "  <thead>\n",
       "    <tr style=\"text-align: right;\">\n",
       "      <th></th>\n",
       "      <th>datetime</th>\n",
       "      <th>machineID</th>\n",
       "      <th>failure</th>\n",
       "      <th>date</th>\n",
       "      <th>month</th>\n",
       "    </tr>\n",
       "  </thead>\n",
       "  <tbody>\n",
       "    <tr>\n",
       "      <th>22</th>\n",
       "      <td>2015-06-23 10:00:00</td>\n",
       "      <td>5</td>\n",
       "      <td>comp2</td>\n",
       "      <td>2015-06-23</td>\n",
       "      <td>6</td>\n",
       "    </tr>\n",
       "    <tr>\n",
       "      <th>23</th>\n",
       "      <td>2015-08-23 19:00:00</td>\n",
       "      <td>5</td>\n",
       "      <td>comp1</td>\n",
       "      <td>2015-08-23</td>\n",
       "      <td>8</td>\n",
       "    </tr>\n",
       "    <tr>\n",
       "      <th>24</th>\n",
       "      <td>2015-08-30 01:00:00</td>\n",
       "      <td>5</td>\n",
       "      <td>comp1</td>\n",
       "      <td>2015-08-30</td>\n",
       "      <td>8</td>\n",
       "    </tr>\n",
       "    <tr>\n",
       "      <th>25</th>\n",
       "      <td>2015-09-01 06:00:00</td>\n",
       "      <td>5</td>\n",
       "      <td>comp2</td>\n",
       "      <td>2015-09-01</td>\n",
       "      <td>9</td>\n",
       "    </tr>\n",
       "    <tr>\n",
       "      <th>26</th>\n",
       "      <td>2015-09-13 17:00:00</td>\n",
       "      <td>5</td>\n",
       "      <td>comp1</td>\n",
       "      <td>2015-09-13</td>\n",
       "      <td>9</td>\n",
       "    </tr>\n",
       "    <tr>\n",
       "      <th>27</th>\n",
       "      <td>2015-09-15 06:00:00</td>\n",
       "      <td>5</td>\n",
       "      <td>comp2</td>\n",
       "      <td>2015-09-15</td>\n",
       "      <td>9</td>\n",
       "    </tr>\n",
       "    <tr>\n",
       "      <th>28</th>\n",
       "      <td>2015-10-01 23:00:00</td>\n",
       "      <td>5</td>\n",
       "      <td>comp1</td>\n",
       "      <td>2015-10-01</td>\n",
       "      <td>10</td>\n",
       "    </tr>\n",
       "  </tbody>\n",
       "</table>\n",
       "</div>"
      ],
      "text/plain": [
       "              datetime  machineID failure        date  month\n",
       "22 2015-06-23 10:00:00          5   comp2  2015-06-23      6\n",
       "23 2015-08-23 19:00:00          5   comp1  2015-08-23      8\n",
       "24 2015-08-30 01:00:00          5   comp1  2015-08-30      8\n",
       "25 2015-09-01 06:00:00          5   comp2  2015-09-01      9\n",
       "26 2015-09-13 17:00:00          5   comp1  2015-09-13      9\n",
       "27 2015-09-15 06:00:00          5   comp2  2015-09-15      9\n",
       "28 2015-10-01 23:00:00          5   comp1  2015-10-01     10"
      ]
     },
     "execution_count": 36,
     "metadata": {},
     "output_type": "execute_result"
    }
   ],
   "source": [
    "#convert datetime object to datetime64 \n",
    "df_mach_tele.datetime=pd.to_datetime(df_mach_tele.datetime)\n",
    "df_mach_fail.datetime=pd.to_datetime(df_mach_fail.datetime)\n",
    "\n",
    "df_tele_fail=df_mach_tele.merge(df_mach_fail, how='left', on='datetime')\n",
    "\n",
    "df_mach_fail"
   ]
  },
  {
   "cell_type": "markdown",
   "metadata": {},
   "source": [
    "All failures are stored in the same column. For easier handling we will split the data into one column per component (one-hot-encoding)"
   ]
  },
  {
   "cell_type": "code",
   "execution_count": 37,
   "metadata": {},
   "outputs": [
    {
     "data": {
      "text/html": [
       "<div>\n",
       "<style scoped>\n",
       "    .dataframe tbody tr th:only-of-type {\n",
       "        vertical-align: middle;\n",
       "    }\n",
       "\n",
       "    .dataframe tbody tr th {\n",
       "        vertical-align: top;\n",
       "    }\n",
       "\n",
       "    .dataframe thead th {\n",
       "        text-align: right;\n",
       "    }\n",
       "</style>\n",
       "<table border=\"1\" class=\"dataframe\">\n",
       "  <thead>\n",
       "    <tr style=\"text-align: right;\">\n",
       "      <th></th>\n",
       "      <th>datetime</th>\n",
       "      <th>machineID</th>\n",
       "      <th>failure</th>\n",
       "      <th>date</th>\n",
       "      <th>month</th>\n",
       "    </tr>\n",
       "  </thead>\n",
       "  <tbody>\n",
       "    <tr>\n",
       "      <th>22</th>\n",
       "      <td>2015-06-23 10:00:00</td>\n",
       "      <td>5</td>\n",
       "      <td>comp2</td>\n",
       "      <td>2015-06-23</td>\n",
       "      <td>6</td>\n",
       "    </tr>\n",
       "    <tr>\n",
       "      <th>23</th>\n",
       "      <td>2015-08-23 19:00:00</td>\n",
       "      <td>5</td>\n",
       "      <td>comp1</td>\n",
       "      <td>2015-08-23</td>\n",
       "      <td>8</td>\n",
       "    </tr>\n",
       "    <tr>\n",
       "      <th>24</th>\n",
       "      <td>2015-08-30 01:00:00</td>\n",
       "      <td>5</td>\n",
       "      <td>comp1</td>\n",
       "      <td>2015-08-30</td>\n",
       "      <td>8</td>\n",
       "    </tr>\n",
       "    <tr>\n",
       "      <th>25</th>\n",
       "      <td>2015-09-01 06:00:00</td>\n",
       "      <td>5</td>\n",
       "      <td>comp2</td>\n",
       "      <td>2015-09-01</td>\n",
       "      <td>9</td>\n",
       "    </tr>\n",
       "    <tr>\n",
       "      <th>26</th>\n",
       "      <td>2015-09-13 17:00:00</td>\n",
       "      <td>5</td>\n",
       "      <td>comp1</td>\n",
       "      <td>2015-09-13</td>\n",
       "      <td>9</td>\n",
       "    </tr>\n",
       "    <tr>\n",
       "      <th>27</th>\n",
       "      <td>2015-09-15 06:00:00</td>\n",
       "      <td>5</td>\n",
       "      <td>comp2</td>\n",
       "      <td>2015-09-15</td>\n",
       "      <td>9</td>\n",
       "    </tr>\n",
       "    <tr>\n",
       "      <th>28</th>\n",
       "      <td>2015-10-01 23:00:00</td>\n",
       "      <td>5</td>\n",
       "      <td>comp1</td>\n",
       "      <td>2015-10-01</td>\n",
       "      <td>10</td>\n",
       "    </tr>\n",
       "  </tbody>\n",
       "</table>\n",
       "</div>"
      ],
      "text/plain": [
       "              datetime  machineID failure        date  month\n",
       "22 2015-06-23 10:00:00          5   comp2  2015-06-23      6\n",
       "23 2015-08-23 19:00:00          5   comp1  2015-08-23      8\n",
       "24 2015-08-30 01:00:00          5   comp1  2015-08-30      8\n",
       "25 2015-09-01 06:00:00          5   comp2  2015-09-01      9\n",
       "26 2015-09-13 17:00:00          5   comp1  2015-09-13      9\n",
       "27 2015-09-15 06:00:00          5   comp2  2015-09-15      9\n",
       "28 2015-10-01 23:00:00          5   comp1  2015-10-01     10"
      ]
     },
     "execution_count": 37,
     "metadata": {},
     "output_type": "execute_result"
    }
   ],
   "source": [
    "df_mach_fail"
   ]
  },
  {
   "cell_type": "code",
   "execution_count": 38,
   "metadata": {},
   "outputs": [
    {
     "data": {
      "text/html": [
       "<div>\n",
       "<style scoped>\n",
       "    .dataframe tbody tr th:only-of-type {\n",
       "        vertical-align: middle;\n",
       "    }\n",
       "\n",
       "    .dataframe tbody tr th {\n",
       "        vertical-align: top;\n",
       "    }\n",
       "\n",
       "    .dataframe thead th {\n",
       "        text-align: right;\n",
       "    }\n",
       "</style>\n",
       "<table border=\"1\" class=\"dataframe\">\n",
       "  <thead>\n",
       "    <tr style=\"text-align: right;\">\n",
       "      <th></th>\n",
       "      <th>datetime</th>\n",
       "      <th>machineID_x</th>\n",
       "      <th>volt</th>\n",
       "      <th>rotate</th>\n",
       "      <th>pressure</th>\n",
       "      <th>vibration</th>\n",
       "      <th>machineID_y</th>\n",
       "      <th>date</th>\n",
       "      <th>month</th>\n",
       "      <th>f_comp1</th>\n",
       "      <th>f_comp2</th>\n",
       "    </tr>\n",
       "  </thead>\n",
       "  <tbody>\n",
       "    <tr>\n",
       "      <th>0</th>\n",
       "      <td>2015-01-01 06:00:00</td>\n",
       "      <td>5</td>\n",
       "      <td>165.082899</td>\n",
       "      <td>452.283576</td>\n",
       "      <td>84.591722</td>\n",
       "      <td>40.298803</td>\n",
       "      <td>NaN</td>\n",
       "      <td>NaN</td>\n",
       "      <td>NaN</td>\n",
       "      <td>0</td>\n",
       "      <td>0</td>\n",
       "    </tr>\n",
       "    <tr>\n",
       "      <th>1</th>\n",
       "      <td>2015-01-01 07:00:00</td>\n",
       "      <td>5</td>\n",
       "      <td>192.783995</td>\n",
       "      <td>515.389673</td>\n",
       "      <td>119.082137</td>\n",
       "      <td>37.302359</td>\n",
       "      <td>NaN</td>\n",
       "      <td>NaN</td>\n",
       "      <td>NaN</td>\n",
       "      <td>0</td>\n",
       "      <td>0</td>\n",
       "    </tr>\n",
       "    <tr>\n",
       "      <th>2</th>\n",
       "      <td>2015-01-01 08:00:00</td>\n",
       "      <td>5</td>\n",
       "      <td>159.702056</td>\n",
       "      <td>512.294013</td>\n",
       "      <td>90.212540</td>\n",
       "      <td>44.295005</td>\n",
       "      <td>NaN</td>\n",
       "      <td>NaN</td>\n",
       "      <td>NaN</td>\n",
       "      <td>0</td>\n",
       "      <td>0</td>\n",
       "    </tr>\n",
       "    <tr>\n",
       "      <th>3</th>\n",
       "      <td>2015-01-01 09:00:00</td>\n",
       "      <td>5</td>\n",
       "      <td>162.706162</td>\n",
       "      <td>308.578855</td>\n",
       "      <td>95.072898</td>\n",
       "      <td>39.401406</td>\n",
       "      <td>NaN</td>\n",
       "      <td>NaN</td>\n",
       "      <td>NaN</td>\n",
       "      <td>0</td>\n",
       "      <td>0</td>\n",
       "    </tr>\n",
       "    <tr>\n",
       "      <th>4</th>\n",
       "      <td>2015-01-01 10:00:00</td>\n",
       "      <td>5</td>\n",
       "      <td>166.158350</td>\n",
       "      <td>521.153678</td>\n",
       "      <td>76.874388</td>\n",
       "      <td>41.023317</td>\n",
       "      <td>NaN</td>\n",
       "      <td>NaN</td>\n",
       "      <td>NaN</td>\n",
       "      <td>0</td>\n",
       "      <td>0</td>\n",
       "    </tr>\n",
       "    <tr>\n",
       "      <th>...</th>\n",
       "      <td>...</td>\n",
       "      <td>...</td>\n",
       "      <td>...</td>\n",
       "      <td>...</td>\n",
       "      <td>...</td>\n",
       "      <td>...</td>\n",
       "      <td>...</td>\n",
       "      <td>...</td>\n",
       "      <td>...</td>\n",
       "      <td>...</td>\n",
       "      <td>...</td>\n",
       "    </tr>\n",
       "    <tr>\n",
       "      <th>8756</th>\n",
       "      <td>2016-01-01 02:00:00</td>\n",
       "      <td>5</td>\n",
       "      <td>162.964887</td>\n",
       "      <td>511.046527</td>\n",
       "      <td>153.187090</td>\n",
       "      <td>41.772148</td>\n",
       "      <td>NaN</td>\n",
       "      <td>NaN</td>\n",
       "      <td>NaN</td>\n",
       "      <td>0</td>\n",
       "      <td>0</td>\n",
       "    </tr>\n",
       "    <tr>\n",
       "      <th>8757</th>\n",
       "      <td>2016-01-01 03:00:00</td>\n",
       "      <td>5</td>\n",
       "      <td>136.402165</td>\n",
       "      <td>402.228972</td>\n",
       "      <td>152.191926</td>\n",
       "      <td>38.078241</td>\n",
       "      <td>NaN</td>\n",
       "      <td>NaN</td>\n",
       "      <td>NaN</td>\n",
       "      <td>0</td>\n",
       "      <td>0</td>\n",
       "    </tr>\n",
       "    <tr>\n",
       "      <th>8758</th>\n",
       "      <td>2016-01-01 04:00:00</td>\n",
       "      <td>5</td>\n",
       "      <td>181.426439</td>\n",
       "      <td>460.280665</td>\n",
       "      <td>142.451849</td>\n",
       "      <td>44.551477</td>\n",
       "      <td>NaN</td>\n",
       "      <td>NaN</td>\n",
       "      <td>NaN</td>\n",
       "      <td>0</td>\n",
       "      <td>0</td>\n",
       "    </tr>\n",
       "    <tr>\n",
       "      <th>8759</th>\n",
       "      <td>2016-01-01 05:00:00</td>\n",
       "      <td>5</td>\n",
       "      <td>178.261658</td>\n",
       "      <td>424.821800</td>\n",
       "      <td>156.228631</td>\n",
       "      <td>39.976910</td>\n",
       "      <td>NaN</td>\n",
       "      <td>NaN</td>\n",
       "      <td>NaN</td>\n",
       "      <td>0</td>\n",
       "      <td>0</td>\n",
       "    </tr>\n",
       "    <tr>\n",
       "      <th>8760</th>\n",
       "      <td>2016-01-01 06:00:00</td>\n",
       "      <td>5</td>\n",
       "      <td>178.789197</td>\n",
       "      <td>415.167298</td>\n",
       "      <td>142.414273</td>\n",
       "      <td>47.020210</td>\n",
       "      <td>NaN</td>\n",
       "      <td>NaN</td>\n",
       "      <td>NaN</td>\n",
       "      <td>0</td>\n",
       "      <td>0</td>\n",
       "    </tr>\n",
       "  </tbody>\n",
       "</table>\n",
       "<p>8761 rows × 11 columns</p>\n",
       "</div>"
      ],
      "text/plain": [
       "                datetime  machineID_x        volt      rotate    pressure  \\\n",
       "0    2015-01-01 06:00:00            5  165.082899  452.283576   84.591722   \n",
       "1    2015-01-01 07:00:00            5  192.783995  515.389673  119.082137   \n",
       "2    2015-01-01 08:00:00            5  159.702056  512.294013   90.212540   \n",
       "3    2015-01-01 09:00:00            5  162.706162  308.578855   95.072898   \n",
       "4    2015-01-01 10:00:00            5  166.158350  521.153678   76.874388   \n",
       "...                  ...          ...         ...         ...         ...   \n",
       "8756 2016-01-01 02:00:00            5  162.964887  511.046527  153.187090   \n",
       "8757 2016-01-01 03:00:00            5  136.402165  402.228972  152.191926   \n",
       "8758 2016-01-01 04:00:00            5  181.426439  460.280665  142.451849   \n",
       "8759 2016-01-01 05:00:00            5  178.261658  424.821800  156.228631   \n",
       "8760 2016-01-01 06:00:00            5  178.789197  415.167298  142.414273   \n",
       "\n",
       "      vibration  machineID_y date  month  f_comp1  f_comp2  \n",
       "0     40.298803          NaN  NaN    NaN        0        0  \n",
       "1     37.302359          NaN  NaN    NaN        0        0  \n",
       "2     44.295005          NaN  NaN    NaN        0        0  \n",
       "3     39.401406          NaN  NaN    NaN        0        0  \n",
       "4     41.023317          NaN  NaN    NaN        0        0  \n",
       "...         ...          ...  ...    ...      ...      ...  \n",
       "8756  41.772148          NaN  NaN    NaN        0        0  \n",
       "8757  38.078241          NaN  NaN    NaN        0        0  \n",
       "8758  44.551477          NaN  NaN    NaN        0        0  \n",
       "8759  39.976910          NaN  NaN    NaN        0        0  \n",
       "8760  47.020210          NaN  NaN    NaN        0        0  \n",
       "\n",
       "[8761 rows x 11 columns]"
      ]
     },
     "execution_count": 38,
     "metadata": {},
     "output_type": "execute_result"
    }
   ],
   "source": [
    "df_tele_fail = pd.get_dummies(df_tele_fail,prefix=['f'], columns = ['failure'])\n",
    "df_tele_fail"
   ]
  },
  {
   "cell_type": "code",
   "execution_count": 39,
   "metadata": {},
   "outputs": [
    {
     "data": {
      "text/plain": [
       "<AxesSubplot:xlabel='[datetime]', ylabel='[f_comp2]'>"
      ]
     },
     "execution_count": 39,
     "metadata": {},
     "output_type": "execute_result"
    },
    {
     "data": {
      "image/png": "[encoded data removed]",
      "text/plain": [
       "<Figure size 432x288 with 1 Axes>"
      ]
     },
     "metadata": {
      "needs_background": "light"
     },
     "output_type": "display_data"
    }
   ],
   "source": [
    "#Occurence of failure of component 2 over time\n",
    "df_tele_fail.plot(kind='scatter', x=['datetime'], y=['f_comp2'])\n"
   ]
  },
  {
   "cell_type": "markdown",
   "metadata": {},
   "source": [
    "Let's have a closer look into the sensor data around a timestamp when component 2 failed (e.g. 2015-09-15 06:00:00 --> id=6168)"
   ]
  },
  {
   "cell_type": "code",
   "execution_count": 40,
   "metadata": {},
   "outputs": [
    {
     "data": {
      "text/plain": [
       "<AxesSubplot:xlabel='datetime'>"
      ]
     },
     "execution_count": 40,
     "metadata": {},
     "output_type": "execute_result"
    },
    {
     "data": {
      "image/png": "[encoded data removed]",
      "text/plain": [
       "<Figure size 432x288 with 1 Axes>"
      ]
     },
     "metadata": {
      "needs_background": "light"
     },
     "output_type": "display_data"
    }
   ],
   "source": [
    "id=6168\n",
    "threshold=100\n",
    "df_tele_fail.loc[(df_tele_fail.index>id-threshold) & (df_tele_fail.index<id+threshold)].plot(x='datetime', y='volt')"
   ]
  },
  {
   "cell_type": "markdown",
   "metadata": {},
   "source": [
    "Voltage does not show anomalities around the occurence of comp2-failure"
   ]
  },
  {
   "cell_type": "code",
   "execution_count": 41,
   "metadata": {},
   "outputs": [
    {
     "data": {
      "text/plain": [
       "<AxesSubplot:xlabel='datetime'>"
      ]
     },
     "execution_count": 41,
     "metadata": {},
     "output_type": "execute_result"
    },
    {
     "data": {
      "image/png": "[encoded data removed]",
      "text/plain": [
       "<Figure size 432x288 with 1 Axes>"
      ]
     },
     "metadata": {
      "needs_background": "light"
     },
     "output_type": "display_data"
    }
   ],
   "source": [
    "df_tele_fail.loc[(df_tele_fail.index>id-threshold) & (df_tele_fail.index<id+threshold)].plot(x='datetime', y='vibration')"
   ]
  },
  {
   "cell_type": "markdown",
   "metadata": {},
   "source": [
    "Vibration does not show anomalities around the occurence of comp2-failure"
   ]
  },
  {
   "cell_type": "code",
   "execution_count": 42,
   "metadata": {},
   "outputs": [
    {
     "data": {
      "text/plain": [
       "<AxesSubplot:xlabel='datetime'>"
      ]
     },
     "execution_count": 42,
     "metadata": {},
     "output_type": "execute_result"
    },
    {
     "data": {
      "image/png": "[encoded data removed]",
      "text/plain": [
       "<Figure size 432x288 with 1 Axes>"
      ]
     },
     "metadata": {
      "needs_background": "light"
     },
     "output_type": "display_data"
    }
   ],
   "source": [
    "df_tele_fail.loc[(df_tele_fail.index>id-threshold) & (df_tele_fail.index<id+threshold)].plot(x='datetime', y='pressure')"
   ]
  },
  {
   "cell_type": "markdown",
   "metadata": {},
   "source": [
    "Pressure is increased around the occurence of comp2-failure"
   ]
  },
  {
   "cell_type": "markdown",
   "metadata": {},
   "source": [
    "**The example shows that there are anomalities in the features that might be useful for the ml-model.**"
   ]
  },
  {
   "cell_type": "markdown",
   "metadata": {},
   "source": [
    "# Prepare Data for ML-Model\n",
    "\n",
    "## Labeling the dataset for binary classification\n",
    "\n",
    "Vom Moment eines Komponentenaustauschs werden die Messwerte der letzten n Zeiteinheiten als \"Wartung\" markiert\n"
   ]
  },
  {
   "cell_type": "markdown",
   "metadata": {},
   "source": [
    "1. Loop through all machines\n",
    "   1. Get telemetry data for the machine\n",
    "   2. Get failure data for the machine\n",
    "   3. One-Hote-Encode failures to get one column for each component\n",
    "   4. Join telemetry and failure data\n",
    "   5. Label rows with failures and n preceeding rows with '1', all other rows with '0'\n",
    "\n"
   ]
  },
  {
   "cell_type": "code",
   "execution_count": 43,
   "metadata": {},
   "outputs": [],
   "source": [
    "#get fresh copies of the datasets\n",
    "df_machines=pd.read_csv('data/PdM_machines.csv')\n",
    "df_telemetry=pd.read_csv('data/PdM_telemetry.csv')\n",
    "df_failures=pd.read_csv('data/PdM_failures.csv')"
   ]
  },
  {
   "cell_type": "code",
   "execution_count": 45,
   "metadata": {},
   "outputs": [
    {
     "data": {
      "text/html": [
       "<div>\n",
       "<style scoped>\n",
       "    .dataframe tbody tr th:only-of-type {\n",
       "        vertical-align: middle;\n",
       "    }\n",
       "\n",
       "    .dataframe tbody tr th {\n",
       "        vertical-align: top;\n",
       "    }\n",
       "\n",
       "    .dataframe thead th {\n",
       "        text-align: right;\n",
       "    }\n",
       "</style>\n",
       "<table border=\"1\" class=\"dataframe\">\n",
       "  <thead>\n",
       "    <tr style=\"text-align: right;\">\n",
       "      <th></th>\n",
       "      <th>datetime</th>\n",
       "      <th>machineID</th>\n",
       "      <th>volt</th>\n",
       "      <th>rotate</th>\n",
       "      <th>pressure</th>\n",
       "      <th>vibration</th>\n",
       "      <th>age</th>\n",
       "      <th>model3</th>\n",
       "    </tr>\n",
       "  </thead>\n",
       "  <tbody>\n",
       "    <tr>\n",
       "      <th>0</th>\n",
       "      <td>2015-01-01 06:00:00</td>\n",
       "      <td>1</td>\n",
       "      <td>176.217853</td>\n",
       "      <td>418.504078</td>\n",
       "      <td>113.077935</td>\n",
       "      <td>45.087686</td>\n",
       "      <td>18</td>\n",
       "      <td>1</td>\n",
       "    </tr>\n",
       "    <tr>\n",
       "      <th>1</th>\n",
       "      <td>2015-01-01 07:00:00</td>\n",
       "      <td>1</td>\n",
       "      <td>162.879223</td>\n",
       "      <td>402.747490</td>\n",
       "      <td>95.460525</td>\n",
       "      <td>43.413973</td>\n",
       "      <td>18</td>\n",
       "      <td>1</td>\n",
       "    </tr>\n",
       "    <tr>\n",
       "      <th>2</th>\n",
       "      <td>2015-01-01 08:00:00</td>\n",
       "      <td>1</td>\n",
       "      <td>170.989902</td>\n",
       "      <td>527.349825</td>\n",
       "      <td>75.237905</td>\n",
       "      <td>34.178847</td>\n",
       "      <td>18</td>\n",
       "      <td>1</td>\n",
       "    </tr>\n",
       "    <tr>\n",
       "      <th>3</th>\n",
       "      <td>2015-01-01 09:00:00</td>\n",
       "      <td>1</td>\n",
       "      <td>162.462833</td>\n",
       "      <td>346.149335</td>\n",
       "      <td>109.248561</td>\n",
       "      <td>41.122144</td>\n",
       "      <td>18</td>\n",
       "      <td>1</td>\n",
       "    </tr>\n",
       "    <tr>\n",
       "      <th>4</th>\n",
       "      <td>2015-01-01 10:00:00</td>\n",
       "      <td>1</td>\n",
       "      <td>157.610021</td>\n",
       "      <td>435.376873</td>\n",
       "      <td>111.886648</td>\n",
       "      <td>25.990511</td>\n",
       "      <td>18</td>\n",
       "      <td>1</td>\n",
       "    </tr>\n",
       "    <tr>\n",
       "      <th>...</th>\n",
       "      <td>...</td>\n",
       "      <td>...</td>\n",
       "      <td>...</td>\n",
       "      <td>...</td>\n",
       "      <td>...</td>\n",
       "      <td>...</td>\n",
       "      <td>...</td>\n",
       "      <td>...</td>\n",
       "    </tr>\n",
       "    <tr>\n",
       "      <th>814768</th>\n",
       "      <td>2016-01-01 02:00:00</td>\n",
       "      <td>93</td>\n",
       "      <td>202.858467</td>\n",
       "      <td>412.870855</td>\n",
       "      <td>85.569847</td>\n",
       "      <td>47.701614</td>\n",
       "      <td>18</td>\n",
       "      <td>1</td>\n",
       "    </tr>\n",
       "    <tr>\n",
       "      <th>814769</th>\n",
       "      <td>2016-01-01 03:00:00</td>\n",
       "      <td>93</td>\n",
       "      <td>171.364527</td>\n",
       "      <td>459.880473</td>\n",
       "      <td>94.316793</td>\n",
       "      <td>47.592136</td>\n",
       "      <td>18</td>\n",
       "      <td>1</td>\n",
       "    </tr>\n",
       "    <tr>\n",
       "      <th>814770</th>\n",
       "      <td>2016-01-01 04:00:00</td>\n",
       "      <td>93</td>\n",
       "      <td>182.867119</td>\n",
       "      <td>491.584480</td>\n",
       "      <td>90.332643</td>\n",
       "      <td>58.592710</td>\n",
       "      <td>18</td>\n",
       "      <td>1</td>\n",
       "    </tr>\n",
       "    <tr>\n",
       "      <th>814771</th>\n",
       "      <td>2016-01-01 05:00:00</td>\n",
       "      <td>93</td>\n",
       "      <td>166.943545</td>\n",
       "      <td>352.047138</td>\n",
       "      <td>82.068954</td>\n",
       "      <td>46.256361</td>\n",
       "      <td>18</td>\n",
       "      <td>1</td>\n",
       "    </tr>\n",
       "    <tr>\n",
       "      <th>814772</th>\n",
       "      <td>2016-01-01 06:00:00</td>\n",
       "      <td>93</td>\n",
       "      <td>186.324464</td>\n",
       "      <td>459.337856</td>\n",
       "      <td>114.542401</td>\n",
       "      <td>48.191245</td>\n",
       "      <td>18</td>\n",
       "      <td>1</td>\n",
       "    </tr>\n",
       "  </tbody>\n",
       "</table>\n",
       "<p>306635 rows × 8 columns</p>\n",
       "</div>"
      ],
      "text/plain": [
       "                   datetime  machineID        volt      rotate    pressure  \\\n",
       "0       2015-01-01 06:00:00          1  176.217853  418.504078  113.077935   \n",
       "1       2015-01-01 07:00:00          1  162.879223  402.747490   95.460525   \n",
       "2       2015-01-01 08:00:00          1  170.989902  527.349825   75.237905   \n",
       "3       2015-01-01 09:00:00          1  162.462833  346.149335  109.248561   \n",
       "4       2015-01-01 10:00:00          1  157.610021  435.376873  111.886648   \n",
       "...                     ...        ...         ...         ...         ...   \n",
       "814768  2016-01-01 02:00:00         93  202.858467  412.870855   85.569847   \n",
       "814769  2016-01-01 03:00:00         93  171.364527  459.880473   94.316793   \n",
       "814770  2016-01-01 04:00:00         93  182.867119  491.584480   90.332643   \n",
       "814771  2016-01-01 05:00:00         93  166.943545  352.047138   82.068954   \n",
       "814772  2016-01-01 06:00:00         93  186.324464  459.337856  114.542401   \n",
       "\n",
       "        vibration  age  model3  \n",
       "0       45.087686   18       1  \n",
       "1       43.413973   18       1  \n",
       "2       34.178847   18       1  \n",
       "3       41.122144   18       1  \n",
       "4       25.990511   18       1  \n",
       "...           ...  ...     ...  \n",
       "814768  47.701614   18       1  \n",
       "814769  47.592136   18       1  \n",
       "814770  58.592710   18       1  \n",
       "814771  46.256361   18       1  \n",
       "814772  48.191245   18       1  \n",
       "\n",
       "[306635 rows x 8 columns]"
      ]
     },
     "execution_count": 45,
     "metadata": {},
     "output_type": "execute_result"
    }
   ],
   "source": [
    "df_telemetry=df_telemetry.merge(df_machines, how='left', on='machineID')\n",
    "df_telemetry=df_telemetry[df_telemetry.model=='model3']\n",
    "df_telemetry=pd.get_dummies(df_telemetry,prefix=[''], prefix_sep=[''], columns = ['model'], drop_first=False)\n",
    "df_telemetry"
   ]
  },
  {
   "cell_type": "code",
   "execution_count": 46,
   "metadata": {},
   "outputs": [
    {
     "data": {
      "text/html": [
       "<div>\n",
       "<style scoped>\n",
       "    .dataframe tbody tr th:only-of-type {\n",
       "        vertical-align: middle;\n",
       "    }\n",
       "\n",
       "    .dataframe tbody tr th {\n",
       "        vertical-align: top;\n",
       "    }\n",
       "\n",
       "    .dataframe thead th {\n",
       "        text-align: right;\n",
       "    }\n",
       "</style>\n",
       "<table border=\"1\" class=\"dataframe\">\n",
       "  <thead>\n",
       "    <tr style=\"text-align: right;\">\n",
       "      <th></th>\n",
       "      <th>datetime</th>\n",
       "      <th>machineID</th>\n",
       "      <th>volt</th>\n",
       "      <th>rotate</th>\n",
       "      <th>pressure</th>\n",
       "      <th>vibration</th>\n",
       "      <th>age</th>\n",
       "      <th>model3</th>\n",
       "      <th>comp1</th>\n",
       "      <th>comp2</th>\n",
       "      <th>comp4</th>\n",
       "      <th>comp3</th>\n",
       "    </tr>\n",
       "  </thead>\n",
       "  <tbody>\n",
       "    <tr>\n",
       "      <th>1500</th>\n",
       "      <td>2015-03-04 18:00:00</td>\n",
       "      <td>1</td>\n",
       "      <td>186.260099</td>\n",
       "      <td>493.983905</td>\n",
       "      <td>104.296202</td>\n",
       "      <td>44.468203</td>\n",
       "      <td>18</td>\n",
       "      <td>1</td>\n",
       "      <td>1.0</td>\n",
       "      <td>0.0</td>\n",
       "      <td>0.0</td>\n",
       "      <td>0.0</td>\n",
       "    </tr>\n",
       "    <tr>\n",
       "      <th>1501</th>\n",
       "      <td>2015-03-04 19:00:00</td>\n",
       "      <td>1</td>\n",
       "      <td>171.671520</td>\n",
       "      <td>360.736832</td>\n",
       "      <td>101.886029</td>\n",
       "      <td>39.946633</td>\n",
       "      <td>18</td>\n",
       "      <td>1</td>\n",
       "      <td>1.0</td>\n",
       "      <td>0.0</td>\n",
       "      <td>0.0</td>\n",
       "      <td>0.0</td>\n",
       "    </tr>\n",
       "    <tr>\n",
       "      <th>1502</th>\n",
       "      <td>2015-03-04 20:00:00</td>\n",
       "      <td>1</td>\n",
       "      <td>188.911905</td>\n",
       "      <td>383.292730</td>\n",
       "      <td>102.418570</td>\n",
       "      <td>37.633302</td>\n",
       "      <td>18</td>\n",
       "      <td>1</td>\n",
       "      <td>1.0</td>\n",
       "      <td>0.0</td>\n",
       "      <td>0.0</td>\n",
       "      <td>0.0</td>\n",
       "    </tr>\n",
       "    <tr>\n",
       "      <th>1503</th>\n",
       "      <td>2015-03-04 21:00:00</td>\n",
       "      <td>1</td>\n",
       "      <td>210.473519</td>\n",
       "      <td>472.531431</td>\n",
       "      <td>112.533270</td>\n",
       "      <td>40.620846</td>\n",
       "      <td>18</td>\n",
       "      <td>1</td>\n",
       "      <td>1.0</td>\n",
       "      <td>0.0</td>\n",
       "      <td>0.0</td>\n",
       "      <td>0.0</td>\n",
       "    </tr>\n",
       "    <tr>\n",
       "      <th>1504</th>\n",
       "      <td>2015-03-04 22:00:00</td>\n",
       "      <td>1</td>\n",
       "      <td>183.137035</td>\n",
       "      <td>441.870156</td>\n",
       "      <td>92.064710</td>\n",
       "      <td>34.676932</td>\n",
       "      <td>18</td>\n",
       "      <td>1</td>\n",
       "      <td>1.0</td>\n",
       "      <td>0.0</td>\n",
       "      <td>0.0</td>\n",
       "      <td>0.0</td>\n",
       "    </tr>\n",
       "    <tr>\n",
       "      <th>...</th>\n",
       "      <td>...</td>\n",
       "      <td>...</td>\n",
       "      <td>...</td>\n",
       "      <td>...</td>\n",
       "      <td>...</td>\n",
       "      <td>...</td>\n",
       "      <td>...</td>\n",
       "      <td>...</td>\n",
       "      <td>...</td>\n",
       "      <td>...</td>\n",
       "      <td>...</td>\n",
       "      <td>...</td>\n",
       "    </tr>\n",
       "    <tr>\n",
       "      <th>4316</th>\n",
       "      <td>2015-06-30 02:00:00</td>\n",
       "      <td>93</td>\n",
       "      <td>166.558001</td>\n",
       "      <td>361.714360</td>\n",
       "      <td>106.230878</td>\n",
       "      <td>28.112000</td>\n",
       "      <td>18</td>\n",
       "      <td>1</td>\n",
       "      <td>1.0</td>\n",
       "      <td>0.0</td>\n",
       "      <td>0.0</td>\n",
       "      <td>0.0</td>\n",
       "    </tr>\n",
       "    <tr>\n",
       "      <th>4317</th>\n",
       "      <td>2015-06-30 03:00:00</td>\n",
       "      <td>93</td>\n",
       "      <td>198.768217</td>\n",
       "      <td>418.984082</td>\n",
       "      <td>113.047134</td>\n",
       "      <td>41.101965</td>\n",
       "      <td>18</td>\n",
       "      <td>1</td>\n",
       "      <td>1.0</td>\n",
       "      <td>0.0</td>\n",
       "      <td>0.0</td>\n",
       "      <td>0.0</td>\n",
       "    </tr>\n",
       "    <tr>\n",
       "      <th>4318</th>\n",
       "      <td>2015-06-30 04:00:00</td>\n",
       "      <td>93</td>\n",
       "      <td>193.018032</td>\n",
       "      <td>327.290927</td>\n",
       "      <td>111.788164</td>\n",
       "      <td>40.410020</td>\n",
       "      <td>18</td>\n",
       "      <td>1</td>\n",
       "      <td>1.0</td>\n",
       "      <td>0.0</td>\n",
       "      <td>0.0</td>\n",
       "      <td>0.0</td>\n",
       "    </tr>\n",
       "    <tr>\n",
       "      <th>4319</th>\n",
       "      <td>2015-06-30 05:00:00</td>\n",
       "      <td>93</td>\n",
       "      <td>193.299245</td>\n",
       "      <td>408.886948</td>\n",
       "      <td>118.608602</td>\n",
       "      <td>45.337151</td>\n",
       "      <td>18</td>\n",
       "      <td>1</td>\n",
       "      <td>1.0</td>\n",
       "      <td>0.0</td>\n",
       "      <td>0.0</td>\n",
       "      <td>0.0</td>\n",
       "    </tr>\n",
       "    <tr>\n",
       "      <th>4320</th>\n",
       "      <td>2015-06-30 06:00:00</td>\n",
       "      <td>93</td>\n",
       "      <td>179.323884</td>\n",
       "      <td>393.594057</td>\n",
       "      <td>96.274142</td>\n",
       "      <td>48.665333</td>\n",
       "      <td>18</td>\n",
       "      <td>1</td>\n",
       "      <td>1.0</td>\n",
       "      <td>0.0</td>\n",
       "      <td>0.0</td>\n",
       "      <td>0.0</td>\n",
       "    </tr>\n",
       "  </tbody>\n",
       "</table>\n",
       "<p>2456 rows × 12 columns</p>\n",
       "</div>"
      ],
      "text/plain": [
       "                 datetime  machineID        volt      rotate    pressure  \\\n",
       "1500  2015-03-04 18:00:00          1  186.260099  493.983905  104.296202   \n",
       "1501  2015-03-04 19:00:00          1  171.671520  360.736832  101.886029   \n",
       "1502  2015-03-04 20:00:00          1  188.911905  383.292730  102.418570   \n",
       "1503  2015-03-04 21:00:00          1  210.473519  472.531431  112.533270   \n",
       "1504  2015-03-04 22:00:00          1  183.137035  441.870156   92.064710   \n",
       "...                   ...        ...         ...         ...         ...   \n",
       "4316  2015-06-30 02:00:00         93  166.558001  361.714360  106.230878   \n",
       "4317  2015-06-30 03:00:00         93  198.768217  418.984082  113.047134   \n",
       "4318  2015-06-30 04:00:00         93  193.018032  327.290927  111.788164   \n",
       "4319  2015-06-30 05:00:00         93  193.299245  408.886948  118.608602   \n",
       "4320  2015-06-30 06:00:00         93  179.323884  393.594057   96.274142   \n",
       "\n",
       "      vibration  age  model3  comp1  comp2  comp4  comp3  \n",
       "1500  44.468203   18       1    1.0    0.0    0.0    0.0  \n",
       "1501  39.946633   18       1    1.0    0.0    0.0    0.0  \n",
       "1502  37.633302   18       1    1.0    0.0    0.0    0.0  \n",
       "1503  40.620846   18       1    1.0    0.0    0.0    0.0  \n",
       "1504  34.676932   18       1    1.0    0.0    0.0    0.0  \n",
       "...         ...  ...     ...    ...    ...    ...    ...  \n",
       "4316  28.112000   18       1    1.0    0.0    0.0    0.0  \n",
       "4317  41.101965   18       1    1.0    0.0    0.0    0.0  \n",
       "4318  40.410020   18       1    1.0    0.0    0.0    0.0  \n",
       "4319  45.337151   18       1    1.0    0.0    0.0    0.0  \n",
       "4320  48.665333   18       1    1.0    0.0    0.0    0.0  \n",
       "\n",
       "[2456 rows x 12 columns]"
      ]
     },
     "execution_count": 46,
     "metadata": {},
     "output_type": "execute_result"
    }
   ],
   "source": [
    "\n",
    "def label_binary_clf(n, df, cols):\n",
    "    \"\"\"Label data for binary classification\n",
    "\n",
    "    Args:\n",
    "        n (int): Number of rows to be labeled before failure]\n",
    "        df (dataframe): The dataframe containing features and label-columns\n",
    "        cols (array): Label-columns\n",
    "\n",
    "    Returns:\n",
    "        dataframe: Dataframe containing the labeled data\n",
    "    \"\"\"\n",
    "    df[cols]=df[cols].fillna(method=\"bfill\", limit=n)\n",
    "    return df\n",
    "\n",
    "n=36\n",
    "df_tele_fail_all=pd.DataFrame()\n",
    "for index, row in df_machines.iterrows():\n",
    "    df_tele=df_telemetry[df_telemetry.machineID==row.machineID]\n",
    "    df_fail=df_failures[df_failures.machineID==row.machineID]\n",
    "    components=df_fail.failure.unique()\n",
    "    df_fail=pd.get_dummies(df_fail,prefix=[''], prefix_sep=[''], columns = ['failure'], drop_first=False)\n",
    "    df_fail=df_fail.drop(columns=['machineID'])\n",
    "    df_tele_fail=df_tele.merge(df_fail, how='left', on=['datetime'])\n",
    "    df_tele_fail=label_binary_clf(n, df_tele_fail, components)\n",
    "    df_tele_fail_all=pd.concat([df_tele_fail_all, df_tele_fail])\n",
    "\n",
    "df_tele_fail_all=df_tele_fail_all.fillna(0)\n",
    "df_tele_fail_all[df_tele_fail_all.comp1==1]\n"
   ]
  },
  {
   "cell_type": "markdown",
   "metadata": {},
   "source": [
    "## Create Training-Set and Test-Set"
   ]
  },
  {
   "cell_type": "code",
   "execution_count": 47,
   "metadata": {},
   "outputs": [],
   "source": [
    "df_ma=df_tele_fail_all #[df_tele_fail_all.machineID==1]\n",
    "df_ma['pressure_ma']=df_ma['pressure'].rolling(window=1000).mean()\n",
    "df_ma['vibration_ma']=df_ma['vibration'].rolling(window=1000).mean()\n",
    "df_ma['volt_ma']=df_ma['volt'].rolling(window=1000).mean()\n",
    "df_ma['rotate_ma']=df_ma['rotate'].rolling(window=1000).mean()\n",
    "df_ma=df_ma.dropna()\n",
    "#df_ma.info()"
   ]
  },
  {
   "cell_type": "code",
   "execution_count": 48,
   "metadata": {},
   "outputs": [],
   "source": [
    "#X1=df_ma[['volt','rotate','vibration','pressure','model1','model2','model3','model4','age']].values\n",
    "X1=df_ma[['volt','rotate','vibration','pressure','age']].values\n",
    "\n",
    "y_comp1=df_ma['comp2'].values\n",
    "\n",
    "\n",
    "X_train1, X_test1, y_train1, y_test1 = train_test_split(X1, y_comp1, test_size=0.1, random_state=42)\n",
    "#X_train2, X_test2, y_train2, y_test2 = train_test_split(X2, y_comp4, test_size=0.1, random_state=42)\n",
    "#X_train, X_test, y_train_2, y_test_2 = train_test_split(X, y_comp2, test_size=0.1, random_state=42)\n",
    "#X_train, X_test, y_train_3, y_test_3 = train_test_split(X, y_comp3, test_size=0.1, random_state=42)\n",
    "#X_train, X_test, y_train_4, y_test_4 = train_test_split(X, y_comp4, test_size=0.1, random_state=42)"
   ]
  },
  {
   "cell_type": "code",
   "execution_count": 49,
   "metadata": {},
   "outputs": [
    {
     "data": {
      "image/png": "[encoded data removed]",
      "text/plain": [
       "<Figure size 432x288 with 1 Axes>"
      ]
     },
     "metadata": {
      "needs_background": "light"
     },
     "output_type": "display_data"
    }
   ],
   "source": [
    "def plot_dataset(X, y, axes):\n",
    "    plt.plot(X[:, 0][y==0], X[:, 1][y==0], \"bs\")\n",
    "    plt.plot(X[:, 0][y==1], X[:, 1][y==1], \"g^\")\n",
    "    #plt.plot(X[:, 0][y==0],  \"bs\")\n",
    "    #plt.plot(X[:, 0][y==1], \"g^\")\n",
    "\n",
    "\n",
    "    #plt.axis(axes)\n",
    "    plt.grid(True, which='both')\n",
    "    plt.xlabel(r\"$x_1$\", fontsize=20)\n",
    "    #plt.ylabel(r\"$x_2$\", fontsize=20, rotation=0)\n",
    "\n",
    "def plot_predictions(clf, axes):\n",
    "    x0s = np.linspace(axes[0], axes[1], 100)\n",
    "    x1s = np.linspace(axes[2], axes[3], 100)\n",
    "    x0, x1 = np.meshgrid(x0s, x1s)\n",
    "    X = np.c_[x0.ravel(), x1.ravel()]\n",
    "    y_pred = clf.predict(X).reshape(x0.shape)\n",
    "    y_decision = clf.decision_function(X).reshape(x0.shape)\n",
    "    plt.contourf(x0, x1, y_pred, cmap=plt.cm.brg, alpha=0.2)\n",
    "    plt.contourf(x0, x1, y_decision, cmap=plt.cm.brg, alpha=0.1)\n",
    "\n",
    "plot_dataset(X_train1, y_train1, [0,120,20,200])\n",
    "plt.show()\n",
    "#plot_dataset(X_train2, y_train2, [150,300,150,700])\n",
    "#plt.show()"
   ]
  },
  {
   "cell_type": "code",
   "execution_count": 50,
   "metadata": {},
   "outputs": [],
   "source": [
    "comp1_clf= Pipeline([\n",
    "    ('scaler', StandardScaler()),\n",
    "    ('clf', SVC(kernel='rbf',C=1, gamma=100))\n",
    "])\n",
    "comp1_clf.fit(X_train1,y_train1)"
   ]
  },
  {
   "cell_type": "code",
   "execution_count": 246,
   "metadata": {},
   "outputs": [
    {
     "data": {
      "text/plain": [
       "array([[6918,    0],\n",
       "       [   6,   61]])"
      ]
     },
     "execution_count": 246,
     "metadata": {},
     "output_type": "execute_result"
    },
    {
     "data": {
      "image/png": "[encoded data removed]",
      "text/plain": [
       "<Figure size 432x288 with 2 Axes>"
      ]
     },
     "metadata": {
      "needs_background": "light"
     },
     "output_type": "display_data"
    }
   ],
   "source": [
    "predictions = comp1_clf.predict(X_train1)\n",
    "cm = confusion_matrix(y_train1, predictions, labels=comp1_clf.classes_)\n",
    "disp = ConfusionMatrixDisplay(confusion_matrix=cm,\n",
    "                               display_labels=comp1_clf.classes_)\n",
    "disp.plot()\n",
    "\n",
    "#plt.show()\n",
    "cm"
   ]
  }
 ],
 "metadata": {
  "interpreter": {
   "hash": "dca117791f3f3a7324759bf3a3cfc9ef6f89f7a9cf9cfbb4bfb1638f06b7e39c"
  },
  "kernelspec": {
   "display_name": "Python 3.7.11 64-bit ('WebScraper': conda)",
   "language": "python",
   "name": "python3"
  },
  "language_info": {
   "codemirror_mode": {
    "name": "ipython",
    "version": 3
   },
   "file_extension": ".py",
   "mimetype": "text/x-python",
   "name": "python",
   "nbconvert_exporter": "python",
   "pygments_lexer": "ipython3",
   "version": "3.9.5"
  },
  "orig_nbformat": 4
 },
 "nbformat": 4,
 "nbformat_minor": 2
}
